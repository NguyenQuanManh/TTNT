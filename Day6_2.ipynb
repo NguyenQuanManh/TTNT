{
  "nbformat": 4,
  "nbformat_minor": 0,
  "metadata": {
    "colab": {
      "provenance": [],
      "collapsed_sections": [],
      "authorship_tag": "ABX9TyPM/PVJDd4RgVkfldIQB9nz",
      "include_colab_link": true
    },
    "kernelspec": {
      "name": "python3",
      "display_name": "Python 3"
    },
    "language_info": {
      "name": "python"
    }
  },
  "cells": [
    {
      "cell_type": "markdown",
      "metadata": {
        "id": "view-in-github",
        "colab_type": "text"
      },
      "source": [
        "<a href=\"https://colab.research.google.com/github/NguyenQuanManh/TTNT/blob/main/Day6_2.ipynb\" target=\"_parent\"><img src=\"https://colab.research.google.com/assets/colab-badge.svg\" alt=\"Open In Colab\"/></a>"
      ]
    },
    {
      "cell_type": "code",
      "execution_count": 1,
      "metadata": {
        "id": "RdjrAYp3Hihw",
        "colab": {
          "base_uri": "https://localhost:8080/"
        },
        "outputId": "6c5ddb95-d80f-4645-bf3d-bbcbed9ff8fd"
      },
      "outputs": [
        {
          "output_type": "stream",
          "name": "stdout",
          "text": [
            "Downloading data from https://storage.googleapis.com/tensorflow/tf-keras-datasets/train-labels-idx1-ubyte.gz\n",
            "29515/29515 [==============================] - 0s 0us/step\n",
            "Downloading data from https://storage.googleapis.com/tensorflow/tf-keras-datasets/train-images-idx3-ubyte.gz\n",
            "26421880/26421880 [==============================] - 0s 0us/step\n",
            "Downloading data from https://storage.googleapis.com/tensorflow/tf-keras-datasets/t10k-labels-idx1-ubyte.gz\n",
            "5148/5148 [==============================] - 0s 0us/step\n",
            "Downloading data from https://storage.googleapis.com/tensorflow/tf-keras-datasets/t10k-images-idx3-ubyte.gz\n",
            "4422102/4422102 [==============================] - 0s 0us/step\n"
          ]
        }
      ],
      "source": [
        "from keras.datasets import fashion_mnist\n",
        "(x_train,y_train),(x_test,y_test)=fashion_mnist.load_data()"
      ]
    },
    {
      "cell_type": "code",
      "source": [
        "x_train.shape"
      ],
      "metadata": {
        "colab": {
          "base_uri": "https://localhost:8080/"
        },
        "id": "-vtSzPzsHpsD",
        "outputId": "d9e6ff9b-bd4d-489b-836c-fd0a3b22ff74"
      },
      "execution_count": 2,
      "outputs": [
        {
          "output_type": "execute_result",
          "data": {
            "text/plain": [
              "(60000, 28, 28)"
            ]
          },
          "metadata": {},
          "execution_count": 2
        }
      ]
    },
    {
      "cell_type": "code",
      "source": [
        "y_train.shape"
      ],
      "metadata": {
        "colab": {
          "base_uri": "https://localhost:8080/"
        },
        "id": "soC889GmHr6i",
        "outputId": "cd8c1465-616b-4110-94e8-8e58f5adbe98"
      },
      "execution_count": 3,
      "outputs": [
        {
          "output_type": "execute_result",
          "data": {
            "text/plain": [
              "(60000,)"
            ]
          },
          "metadata": {},
          "execution_count": 3
        }
      ]
    },
    {
      "cell_type": "code",
      "source": [
        "x_test.shape"
      ],
      "metadata": {
        "colab": {
          "base_uri": "https://localhost:8080/"
        },
        "id": "30dv0TFVHvGn",
        "outputId": "90fc37c9-aecd-4069-9de4-d7fcdaab5721"
      },
      "execution_count": 4,
      "outputs": [
        {
          "output_type": "execute_result",
          "data": {
            "text/plain": [
              "(10000, 28, 28)"
            ]
          },
          "metadata": {},
          "execution_count": 4
        }
      ]
    },
    {
      "cell_type": "code",
      "source": [
        "y_test.shape"
      ],
      "metadata": {
        "colab": {
          "base_uri": "https://localhost:8080/"
        },
        "id": "zGd7xNVDHyV8",
        "outputId": "13b8bf90-7586-48ce-bcde-46eb0a309666"
      },
      "execution_count": 5,
      "outputs": [
        {
          "output_type": "execute_result",
          "data": {
            "text/plain": [
              "(10000,)"
            ]
          },
          "metadata": {},
          "execution_count": 5
        }
      ]
    },
    {
      "cell_type": "code",
      "source": [
        "import matplotlib.pyplot as plt\n",
        "plt.imshow(x_train[195])\n",
        "plt.show()\n"
      ],
      "metadata": {
        "colab": {
          "base_uri": "https://localhost:8080/",
          "height": 265
        },
        "id": "_8LY9X5HH0l9",
        "outputId": "5a417d03-68d8-4b28-c52d-2de7800c989e"
      },
      "execution_count": 8,
      "outputs": [
        {
          "output_type": "display_data",
          "data": {
            "text/plain": [
              "<Figure size 432x288 with 1 Axes>"
            ],
            "image/png": "[encoded data removed]"
          },
          "metadata": {
            "needs_background": "light"
          }
        }
      ]
    },
    {
      "cell_type": "code",
      "source": [
        "class_name=['T-shirt/Top','Trous','Pullover','Press','Coat','Sandal','Shirt','Sneaker','Bag','Ankle boot']\n",
        "plt.imshow(x_train[50])\n",
        "plt.show()\n",
        "print(class_name[y_train[50]])"
      ],
      "metadata": {
        "colab": {
          "base_uri": "https://localhost:8080/",
          "height": 282
        },
        "id": "ayVNWg6-IksQ",
        "outputId": "a88b6d18-b225-42b3-d9c0-460fe9e94709"
      },
      "execution_count": 9,
      "outputs": [
        {
          "output_type": "display_data",
          "data": {
            "text/plain": [
              "<Figure size 432x288 with 1 Axes>"
            ],
            "image/png": "[encoded data removed]"
          },
          "metadata": {
            "needs_background": "light"
          }
        },
        {
          "output_type": "stream",
          "name": "stdout",
          "text": [
            "Press\n"
          ]
        }
      ]
    },
    {
      "cell_type": "code",
      "source": [
        "x_train=x_train.reshape((60000,28*28))\n",
        "x_train=x_train.astype('float32')/255\n",
        "x_test=x_test.reshape(10000,28*28)\n",
        "x_test=x_test.astype('float32')/255\n",
        "from keras.utils import to_categorical\n",
        "y_train=to_categorical(y_train)\n",
        "y_test=to_categorical(y_test)\n"
      ],
      "metadata": {
        "id": "wTDU2JtqJrLV"
      },
      "execution_count": 10,
      "outputs": []
    },
    {
      "cell_type": "code",
      "source": [
        "from keras import models\n",
        "from keras import layers\n",
        "model=models.Sequential()\n",
        "model.add(layers.Dense(500,activation='relu',input_shape=(28*28,)))\n",
        "model.add(layers.Dense(10,activation='softmax'))\n",
        "model.summary()\n",
        "model.compile(optimizer=\"rmsprop\", loss = \"categorical_crossentropy\", metrics=[\"accuracy\"])\n",
        "model.fit(x_train, y_train, epochs=50, batch_size=100)"
      ],
      "metadata": {
        "colab": {
          "base_uri": "https://localhost:8080/"
        },
        "id": "GtWPYxfmMSB5",
        "outputId": "767df698-20d4-4428-d899-23ca88f07886"
      },
      "execution_count": 11,
      "outputs": [
        {
          "output_type": "stream",
          "name": "stdout",
          "text": [
            "Model: \"sequential\"\n",
            "_________________________________________________________________\n",
            " Layer (type)                Output Shape              Param #   \n",
            "=================================================================\n",
            " dense (Dense)               (None, 500)               392500    \n",
            "                                                                 \n",
            " dense_1 (Dense)             (None, 10)                5010      \n",
            "                                                                 \n",
            "=================================================================\n",
            "Total params: 397,510\n",
            "Trainable params: 397,510\n",
            "Non-trainable params: 0\n",
            "_________________________________________________________________\n",
            "Epoch 1/50\n",
            "600/600 [==============================] - 7s 11ms/step - loss: 0.5374 - accuracy: 0.8083\n",
            "Epoch 2/50\n",
            "600/600 [==============================] - 6s 10ms/step - loss: 0.3748 - accuracy: 0.8630\n",
            "Epoch 3/50\n",
            "600/600 [==============================] - 6s 11ms/step - loss: 0.3347 - accuracy: 0.8777\n",
            "Epoch 4/50\n",
            "600/600 [==============================] - 7s 11ms/step - loss: 0.3091 - accuracy: 0.8865\n",
            "Epoch 5/50\n",
            "600/600 [==============================] - 6s 11ms/step - loss: 0.2928 - accuracy: 0.8918\n",
            "Epoch 6/50\n",
            "600/600 [==============================] - 7s 12ms/step - loss: 0.2774 - accuracy: 0.8986\n",
            "Epoch 7/50\n",
            "600/600 [==============================] - 7s 11ms/step - loss: 0.2662 - accuracy: 0.9011\n",
            "Epoch 8/50\n",
            "600/600 [==============================] - 6s 10ms/step - loss: 0.2559 - accuracy: 0.9061\n",
            "Epoch 9/50\n",
            "600/600 [==============================] - 6s 10ms/step - loss: 0.2476 - accuracy: 0.9094\n",
            "Epoch 10/50\n",
            "600/600 [==============================] - 6s 10ms/step - loss: 0.2381 - accuracy: 0.9128\n",
            "Epoch 11/50\n",
            "600/600 [==============================] - 6s 10ms/step - loss: 0.2300 - accuracy: 0.9156\n",
            "Epoch 12/50\n",
            "600/600 [==============================] - 7s 11ms/step - loss: 0.2246 - accuracy: 0.9180\n",
            "Epoch 13/50\n",
            "600/600 [==============================] - 7s 11ms/step - loss: 0.2165 - accuracy: 0.9208\n",
            "Epoch 14/50\n",
            "600/600 [==============================] - 8s 13ms/step - loss: 0.2117 - accuracy: 0.9223\n",
            "Epoch 15/50\n",
            "600/600 [==============================] - 7s 11ms/step - loss: 0.2047 - accuracy: 0.9243\n",
            "Epoch 16/50\n",
            "600/600 [==============================] - 6s 11ms/step - loss: 0.1998 - accuracy: 0.9284\n",
            "Epoch 17/50\n",
            "600/600 [==============================] - 6s 11ms/step - loss: 0.1944 - accuracy: 0.9293\n",
            "Epoch 18/50\n",
            "600/600 [==============================] - 6s 10ms/step - loss: 0.1907 - accuracy: 0.9311\n",
            "Epoch 19/50\n",
            "600/600 [==============================] - 6s 11ms/step - loss: 0.1844 - accuracy: 0.9328\n",
            "Epoch 20/50\n",
            "600/600 [==============================] - 7s 11ms/step - loss: 0.1810 - accuracy: 0.9351\n",
            "Epoch 21/50\n",
            "600/600 [==============================] - 6s 10ms/step - loss: 0.1774 - accuracy: 0.9353\n",
            "Epoch 22/50\n",
            "600/600 [==============================] - 7s 11ms/step - loss: 0.1722 - accuracy: 0.9388\n",
            "Epoch 23/50\n",
            "600/600 [==============================] - 7s 11ms/step - loss: 0.1697 - accuracy: 0.9388\n",
            "Epoch 24/50\n",
            "600/600 [==============================] - 6s 11ms/step - loss: 0.1656 - accuracy: 0.9403\n",
            "Epoch 25/50\n",
            "600/600 [==============================] - 6s 10ms/step - loss: 0.1613 - accuracy: 0.9437\n",
            "Epoch 26/50\n",
            "600/600 [==============================] - 6s 10ms/step - loss: 0.1578 - accuracy: 0.9449\n",
            "Epoch 27/50\n",
            "600/600 [==============================] - 6s 11ms/step - loss: 0.1540 - accuracy: 0.9453\n",
            "Epoch 28/50\n",
            "600/600 [==============================] - 7s 11ms/step - loss: 0.1518 - accuracy: 0.9457\n",
            "Epoch 29/50\n",
            "600/600 [==============================] - 6s 10ms/step - loss: 0.1498 - accuracy: 0.9467\n",
            "Epoch 30/50\n",
            "600/600 [==============================] - 9s 15ms/step - loss: 0.1460 - accuracy: 0.9480\n",
            "Epoch 31/50\n",
            "600/600 [==============================] - 6s 10ms/step - loss: 0.1423 - accuracy: 0.9501\n",
            "Epoch 32/50\n",
            "600/600 [==============================] - 7s 11ms/step - loss: 0.1399 - accuracy: 0.9513\n",
            "Epoch 33/50\n",
            "600/600 [==============================] - 7s 11ms/step - loss: 0.1361 - accuracy: 0.9519\n",
            "Epoch 34/50\n",
            "600/600 [==============================] - 6s 11ms/step - loss: 0.1353 - accuracy: 0.9521\n",
            "Epoch 35/50\n",
            "600/600 [==============================] - 6s 11ms/step - loss: 0.1347 - accuracy: 0.9538\n",
            "Epoch 36/50\n",
            "600/600 [==============================] - 6s 11ms/step - loss: 0.1311 - accuracy: 0.9543\n",
            "Epoch 37/50\n",
            "600/600 [==============================] - 6s 11ms/step - loss: 0.1282 - accuracy: 0.9561\n",
            "Epoch 38/50\n",
            "600/600 [==============================] - 7s 11ms/step - loss: 0.1258 - accuracy: 0.9566\n",
            "Epoch 39/50\n",
            "600/600 [==============================] - 6s 11ms/step - loss: 0.1243 - accuracy: 0.9573\n",
            "Epoch 40/50\n",
            "600/600 [==============================] - 7s 11ms/step - loss: 0.1233 - accuracy: 0.9582\n",
            "Epoch 41/50\n",
            "600/600 [==============================] - 6s 10ms/step - loss: 0.1198 - accuracy: 0.9588\n",
            "Epoch 42/50\n",
            "600/600 [==============================] - 6s 10ms/step - loss: 0.1194 - accuracy: 0.9604\n",
            "Epoch 43/50\n",
            "600/600 [==============================] - 6s 11ms/step - loss: 0.1155 - accuracy: 0.9606\n",
            "Epoch 44/50\n",
            "600/600 [==============================] - 6s 10ms/step - loss: 0.1140 - accuracy: 0.9603\n",
            "Epoch 45/50\n",
            "600/600 [==============================] - 7s 11ms/step - loss: 0.1107 - accuracy: 0.9627\n",
            "Epoch 46/50\n",
            "600/600 [==============================] - 6s 11ms/step - loss: 0.1135 - accuracy: 0.9617\n",
            "Epoch 47/50\n",
            "600/600 [==============================] - 6s 10ms/step - loss: 0.1097 - accuracy: 0.9630\n",
            "Epoch 48/50\n",
            "600/600 [==============================] - 6s 10ms/step - loss: 0.1092 - accuracy: 0.9635\n",
            "Epoch 49/50\n",
            "600/600 [==============================] - 6s 11ms/step - loss: 0.1078 - accuracy: 0.9644\n",
            "Epoch 50/50\n",
            "600/600 [==============================] - 6s 10ms/step - loss: 0.1060 - accuracy: 0.9646\n"
          ]
        },
        {
          "output_type": "execute_result",
          "data": {
            "text/plain": [
              "<keras.callbacks.History at 0x7f0ff3151f90>"
            ]
          },
          "metadata": {},
          "execution_count": 11
        }
      ]
    },
    {
      "cell_type": "code",
      "source": [
        "from keras.utils import img_to_array\n",
        "from keras.utils import load_img\n",
        "import numpy as np\n",
        "#url=url.reshape(28*28,)\n",
        "img=load_img('/content/ao.jpg',target_size=(28,28))\n",
        "plt.imshow(img)\n",
        "img=img_to_array(img)\n",
        "img=img.reshape(1,28,28,3)\n",
        "img=img.astype('float32')\n",
        "img=img/255\n",
        "img=img.reshape(-1,784)\n",
        "\n",
        "np.argmax(model.predict(img),axis=1)"
      ],
      "metadata": {
        "colab": {
          "base_uri": "https://localhost:8080/",
          "height": 300
        },
        "id": "wew9n83nMkd4",
        "outputId": "cac1c260-23ef-4887-aeff-5352e1e2ed94"
      },
      "execution_count": 13,
      "outputs": [
        {
          "output_type": "stream",
          "name": "stdout",
          "text": [
            "1/1 [==============================] - 0s 81ms/step\n"
          ]
        },
        {
          "output_type": "execute_result",
          "data": {
            "text/plain": [
              "array([8, 8, 8])"
            ]
          },
          "metadata": {},
          "execution_count": 13
        },
        {
          "output_type": "display_data",
          "data": {
            "text/plain": [
              "<Figure size 432x288 with 1 Axes>"
            ],
            "image/png": "[encoded data removed]"
          },
          "metadata": {
            "needs_background": "light"
          }
        }
      ]
    },
    {
      "cell_type": "code",
      "source": [],
      "metadata": {
        "id": "azrR-uySSS_w"
      },
      "execution_count": null,
      "outputs": []
    }
  ]
}