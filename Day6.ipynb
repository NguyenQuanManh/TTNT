{
  "nbformat": 4,
  "nbformat_minor": 0,
  "metadata": {
    "colab": {
      "provenance": [],
      "authorship_tag": "ABX9TyNTvK96jGxK2J4B70W1tE6J",
      "include_colab_link": true
    },
    "kernelspec": {
      "name": "python3",
      "display_name": "Python 3"
    },
    "language_info": {
      "name": "python"
    }
  },
  "cells": [
    {
      "cell_type": "markdown",
      "metadata": {
        "id": "view-in-github",
        "colab_type": "text"
      },
      "source": [
        "<a href=\"https://colab.research.google.com/github/NguyenQuanManh/TTNT/blob/main/Day6.ipynb\" target=\"_parent\"><img src=\"https://colab.research.google.com/assets/colab-badge.svg\" alt=\"Open In Colab\"/></a>"
      ]
    },
    {
      "cell_type": "code",
      "execution_count": 1,
      "metadata": {
        "colab": {
          "base_uri": "https://localhost:8080/",
          "height": 334
        },
        "id": "KRmmjni60ve6",
        "outputId": "611c9e08-59fe-409b-afc4-ff1b607ed20f"
      },
      "outputs": [
        {
          "output_type": "stream",
          "name": "stdout",
          "text": [
            "Downloading data from https://storage.googleapis.com/tensorflow/tf-keras-datasets/mnist.npz\n",
            "11490434/11490434 [==============================] - 0s 0us/step\n",
            "(60000, 28, 28) (60000,) (10000, 28, 28) (10000,)\n"
          ]
        },
        {
          "output_type": "display_data",
          "data": {
            "text/plain": [
              "<Figure size 432x288 with 1 Axes>"
            ],
            "image/png": "[encoded data removed]"
          },
          "metadata": {
            "needs_background": "light"
          }
        },
        {
          "output_type": "stream",
          "name": "stdout",
          "text": [
            "5\n"
          ]
        }
      ],
      "source": [
        "#MINIST: nhận dạng chữ số -->nhận diện mã xe,... OCR\n",
        "from keras.datasets import mnist\n",
        "import matplotlib.pyplot as plt\n",
        "(train_images, train_labels),(test_images, test_labels) = mnist.load_data()\n",
        "print(train_images.shape,\n",
        "train_labels.shape,\n",
        "test_images.shape,\n",
        "test_labels.shape)\n",
        "plt.imshow(train_images[2000])\n",
        "plt.show()\n",
        "print(train_labels[2000])\n"
      ]
    },
    {
      "cell_type": "code",
      "source": [
        "from keras import models\n",
        "from keras import layers\n",
        "model=models.Sequential()\n",
        "model.add(layers.Dense(500,activation='relu',input_shape=(28*28,)))\n",
        "model.add(layers.Dense(9,activation='softmax'))\n",
        "model.summary()"
      ],
      "metadata": {
        "id": "couCArRfME4R",
        "outputId": "df0ea348-2c0e-400c-8565-f27da4625139",
        "colab": {
          "base_uri": "https://localhost:8080/"
        }
      },
      "execution_count": null,
      "outputs": [
        {
          "output_type": "stream",
          "name": "stdout",
          "text": [
            "Model: \"sequential_17\"\n",
            "_________________________________________________________________\n",
            " Layer (type)                Output Shape              Param #   \n",
            "=================================================================\n",
            " dense_33 (Dense)            (None, 500)               392500    \n",
            "                                                                 \n",
            " dense_34 (Dense)            (None, 9)                 4509      \n",
            "                                                                 \n",
            "=================================================================\n",
            "Total params: 397,009\n",
            "Trainable params: 397,009\n",
            "Non-trainable params: 0\n",
            "_________________________________________________________________\n"
          ]
        }
      ]
    },
    {
      "cell_type": "code",
      "source": [
        "from keras.datasets import mnist\n",
        "(train_images,train_labels),(test_images,test_labels)=mnist.load_data()\n",
        "train_images.shape\n",
        "train_labels.shape\n",
        "test_images.shape\n",
        "test_labels.shape\n",
        "train_images=train_images.reshape((60000,28*28))\n",
        "train_images=train_images.astype('float32')/255\n",
        "test_images=test_images.reshape((10000,28*28))\n",
        "test_images=train_images.astype('float32')/255\n",
        "from keras.utils import to_categorical\n",
        "train_labels=to_categorical(train_labels)\n",
        "test_labels=to_categorical(test_labels)\n",
        "#print(test_labels)\n"
      ],
      "metadata": {
        "id": "DOvLCPg12JJt"
      },
      "execution_count": null,
      "outputs": []
    },
    {
      "cell_type": "code",
      "source": [
        "model.compile(optimizer=\"rmsprop\", loss = \"categorical_crossentropy\", metrics=[\"accuracy\"])\n",
        "model.fit(train_images, train_labels, epochs=100, batch_size=128)"
      ],
      "metadata": {
        "colab": {
          "base_uri": "https://localhost:8080/"
        },
        "id": "uM-jqxHo77he",
        "outputId": "860eeb46-1161-4808-b2df-d6d71e977a9c"
      },
      "execution_count": null,
      "outputs": [
        {
          "output_type": "stream",
          "name": "stdout",
          "text": [
            "Epoch 1/100\n",
            "469/469 [==============================] - 6s 11ms/step - loss: 0.2560 - accuracy: 0.9269\n",
            "Epoch 2/100\n",
            "469/469 [==============================] - 5s 11ms/step - loss: 0.1040 - accuracy: 0.9693\n",
            "Epoch 3/100\n",
            "469/469 [==============================] - 5s 11ms/step - loss: 0.0679 - accuracy: 0.9793\n",
            "Epoch 4/100\n",
            "469/469 [==============================] - 5s 11ms/step - loss: 0.0494 - accuracy: 0.9854\n",
            "Epoch 5/100\n",
            "469/469 [==============================] - 5s 11ms/step - loss: 0.0367 - accuracy: 0.9888\n",
            "Epoch 6/100\n",
            "469/469 [==============================] - 5s 11ms/step - loss: 0.0284 - accuracy: 0.9912\n",
            "Epoch 7/100\n",
            "469/469 [==============================] - 5s 11ms/step - loss: 0.0211 - accuracy: 0.9935\n",
            "Epoch 8/100\n",
            "469/469 [==============================] - 5s 11ms/step - loss: 0.0164 - accuracy: 0.9951\n",
            "Epoch 9/100\n",
            "469/469 [==============================] - 5s 11ms/step - loss: 0.0131 - accuracy: 0.9964\n",
            "Epoch 10/100\n",
            "469/469 [==============================] - 5s 10ms/step - loss: 0.0098 - accuracy: 0.9975\n",
            "Epoch 11/100\n",
            "469/469 [==============================] - 5s 10ms/step - loss: 0.0076 - accuracy: 0.9981\n",
            "Epoch 12/100\n",
            "469/469 [==============================] - 5s 10ms/step - loss: 0.0060 - accuracy: 0.9982\n",
            "Epoch 13/100\n",
            "469/469 [==============================] - 5s 10ms/step - loss: 0.0051 - accuracy: 0.9985\n",
            "Epoch 14/100\n",
            "469/469 [==============================] - 5s 10ms/step - loss: 0.0039 - accuracy: 0.9989\n",
            "Epoch 15/100\n",
            "469/469 [==============================] - 5s 11ms/step - loss: 0.0027 - accuracy: 0.9992\n",
            "Epoch 16/100\n",
            "469/469 [==============================] - 5s 11ms/step - loss: 0.0024 - accuracy: 0.9992\n",
            "Epoch 17/100\n",
            "469/469 [==============================] - 5s 10ms/step - loss: 0.0017 - accuracy: 0.9995\n",
            "Epoch 18/100\n",
            "469/469 [==============================] - 5s 11ms/step - loss: 0.0014 - accuracy: 0.9995\n",
            "Epoch 19/100\n",
            "469/469 [==============================] - 5s 10ms/step - loss: 0.0010 - accuracy: 0.9996\n",
            "Epoch 20/100\n",
            "469/469 [==============================] - 5s 11ms/step - loss: 9.5479e-04 - accuracy: 0.9998\n",
            "Epoch 21/100\n",
            "469/469 [==============================] - 5s 10ms/step - loss: 7.5121e-04 - accuracy: 0.9998\n",
            "Epoch 22/100\n",
            "469/469 [==============================] - 5s 10ms/step - loss: 4.5506e-04 - accuracy: 0.9999\n",
            "Epoch 23/100\n",
            "469/469 [==============================] - 5s 10ms/step - loss: 4.3321e-04 - accuracy: 0.9999\n",
            "Epoch 24/100\n",
            "469/469 [==============================] - 5s 11ms/step - loss: 3.3778e-04 - accuracy: 0.9999\n",
            "Epoch 25/100\n",
            "469/469 [==============================] - 5s 11ms/step - loss: 3.7118e-04 - accuracy: 0.9999\n",
            "Epoch 26/100\n",
            "469/469 [==============================] - 5s 11ms/step - loss: 3.6513e-04 - accuracy: 0.9999\n",
            "Epoch 27/100\n",
            "469/469 [==============================] - 5s 11ms/step - loss: 3.4864e-04 - accuracy: 0.9999\n",
            "Epoch 28/100\n",
            "469/469 [==============================] - 5s 11ms/step - loss: 1.4107e-04 - accuracy: 1.0000\n",
            "Epoch 29/100\n",
            "469/469 [==============================] - 5s 11ms/step - loss: 1.2083e-04 - accuracy: 1.0000\n",
            "Epoch 30/100\n",
            "469/469 [==============================] - 7s 15ms/step - loss: 1.1628e-04 - accuracy: 0.9999\n",
            "Epoch 31/100\n",
            "469/469 [==============================] - 7s 14ms/step - loss: 8.5834e-05 - accuracy: 1.0000\n",
            "Epoch 32/100\n",
            "469/469 [==============================] - 6s 12ms/step - loss: 3.6647e-05 - accuracy: 1.0000\n",
            "Epoch 33/100\n",
            "469/469 [==============================] - 5s 10ms/step - loss: 4.1802e-05 - accuracy: 1.0000\n",
            "Epoch 34/100\n",
            "469/469 [==============================] - 6s 13ms/step - loss: 3.4561e-05 - accuracy: 1.0000\n",
            "Epoch 35/100\n",
            "469/469 [==============================] - 6s 14ms/step - loss: 1.1729e-04 - accuracy: 0.9999\n",
            "Epoch 36/100\n",
            "469/469 [==============================] - 7s 16ms/step - loss: 2.3212e-05 - accuracy: 1.0000\n",
            "Epoch 37/100\n",
            "469/469 [==============================] - 5s 11ms/step - loss: 4.7116e-05 - accuracy: 1.0000\n",
            "Epoch 38/100\n",
            "469/469 [==============================] - 10s 20ms/step - loss: 2.7493e-05 - accuracy: 1.0000\n",
            "Epoch 39/100\n",
            "469/469 [==============================] - 7s 15ms/step - loss: 4.5935e-05 - accuracy: 1.0000\n",
            "Epoch 40/100\n",
            "469/469 [==============================] - 7s 14ms/step - loss: 2.1490e-06 - accuracy: 1.0000\n",
            "Epoch 41/100\n",
            "469/469 [==============================] - 7s 14ms/step - loss: 2.4741e-05 - accuracy: 1.0000\n",
            "Epoch 42/100\n",
            "469/469 [==============================] - 6s 13ms/step - loss: 1.0964e-05 - accuracy: 1.0000\n",
            "Epoch 43/100\n",
            "469/469 [==============================] - 6s 13ms/step - loss: 7.2333e-08 - accuracy: 1.0000\n",
            "Epoch 44/100\n",
            "469/469 [==============================] - 5s 11ms/step - loss: 3.5951e-08 - accuracy: 1.0000\n",
            "Epoch 45/100\n",
            "469/469 [==============================] - 5s 11ms/step - loss: 2.2503e-08 - accuracy: 1.0000\n",
            "Epoch 46/100\n",
            "469/469 [==============================] - 5s 11ms/step - loss: 1.9644e-08 - accuracy: 1.0000\n",
            "Epoch 47/100\n",
            "469/469 [==============================] - 6s 12ms/step - loss: 1.7689e-08 - accuracy: 1.0000\n",
            "Epoch 48/100\n",
            "469/469 [==============================] - 5s 11ms/step - loss: 1.6238e-08 - accuracy: 1.0000\n",
            "Epoch 49/100\n",
            "469/469 [==============================] - 5s 11ms/step - loss: 1.5096e-08 - accuracy: 1.0000\n",
            "Epoch 50/100\n",
            "469/469 [==============================] - 5s 11ms/step - loss: 1.4144e-08 - accuracy: 1.0000\n",
            "Epoch 51/100\n",
            "469/469 [==============================] - 5s 11ms/step - loss: 1.3349e-08 - accuracy: 1.0000\n",
            "Epoch 52/100\n",
            "469/469 [==============================] - 5s 12ms/step - loss: 1.2618e-08 - accuracy: 1.0000\n",
            "Epoch 53/100\n",
            "469/469 [==============================] - 5s 11ms/step - loss: 1.1951e-08 - accuracy: 1.0000\n",
            "Epoch 54/100\n",
            "469/469 [==============================] - 5s 10ms/step - loss: 1.1480e-08 - accuracy: 1.0000\n",
            "Epoch 55/100\n",
            "469/469 [==============================] - 7s 14ms/step - loss: 1.0987e-08 - accuracy: 1.0000\n",
            "Epoch 56/100\n",
            "469/469 [==============================] - 7s 15ms/step - loss: 1.0516e-08 - accuracy: 1.0000\n",
            "Epoch 57/100\n",
            "469/469 [==============================] - 7s 15ms/step - loss: 1.0161e-08 - accuracy: 1.0000\n",
            "Epoch 58/100\n",
            "469/469 [==============================] - 6s 14ms/step - loss: 9.7752e-09 - accuracy: 1.0000\n",
            "Epoch 59/100\n",
            "469/469 [==============================] - 5s 11ms/step - loss: 9.4016e-09 - accuracy: 1.0000\n",
            "Epoch 60/100\n",
            "469/469 [==============================] - 5s 12ms/step - loss: 9.1135e-09 - accuracy: 1.0000\n",
            "Epoch 61/100\n",
            "469/469 [==============================] - 5s 12ms/step - loss: 8.8274e-09 - accuracy: 1.0000\n",
            "Epoch 62/100\n",
            "469/469 [==============================] - 7s 15ms/step - loss: 8.5433e-09 - accuracy: 1.0000\n",
            "Epoch 63/100\n",
            "469/469 [==============================] - 6s 12ms/step - loss: 8.3387e-09 - accuracy: 1.0000\n",
            "Epoch 64/100\n",
            "469/469 [==============================] - 7s 16ms/step - loss: 8.1142e-09 - accuracy: 1.0000\n",
            "Epoch 65/100\n",
            "469/469 [==============================] - 6s 13ms/step - loss: 7.8519e-09 - accuracy: 1.0000\n",
            "Epoch 66/100\n",
            "469/469 [==============================] - 7s 15ms/step - loss: 7.6393e-09 - accuracy: 1.0000\n",
            "Epoch 67/100\n",
            "469/469 [==============================] - 6s 14ms/step - loss: 7.4784e-09 - accuracy: 1.0000\n",
            "Epoch 68/100\n",
            "469/469 [==============================] - 6s 13ms/step - loss: 7.3433e-09 - accuracy: 1.0000\n",
            "Epoch 69/100\n",
            "469/469 [==============================] - 6s 12ms/step - loss: 7.1863e-09 - accuracy: 1.0000\n",
            "Epoch 70/100\n",
            "469/469 [==============================] - 5s 11ms/step - loss: 6.9280e-09 - accuracy: 1.0000\n",
            "Epoch 71/100\n",
            "469/469 [==============================] - 5s 11ms/step - loss: 6.8963e-09 - accuracy: 1.0000\n",
            "Epoch 72/100\n",
            "469/469 [==============================] - 5s 11ms/step - loss: 6.7155e-09 - accuracy: 1.0000\n",
            "Epoch 73/100\n",
            "469/469 [==============================] - 5s 11ms/step - loss: 6.6499e-09 - accuracy: 1.0000\n",
            "Epoch 74/100\n",
            "469/469 [==============================] - 5s 11ms/step - loss: 6.5287e-09 - accuracy: 1.0000\n",
            "Epoch 75/100\n",
            "469/469 [==============================] - 5s 11ms/step - loss: 6.3876e-09 - accuracy: 1.0000\n",
            "Epoch 76/100\n",
            "469/469 [==============================] - 6s 14ms/step - loss: 6.2883e-09 - accuracy: 1.0000\n",
            "Epoch 77/100\n",
            "469/469 [==============================] - 5s 11ms/step - loss: 6.1870e-09 - accuracy: 1.0000\n",
            "Epoch 78/100\n",
            "469/469 [==============================] - 5s 11ms/step - loss: 6.0459e-09 - accuracy: 1.0000\n",
            "Epoch 79/100\n",
            "469/469 [==============================] - 5s 11ms/step - loss: 6.0280e-09 - accuracy: 1.0000\n",
            "Epoch 80/100\n",
            "469/469 [==============================] - 5s 11ms/step - loss: 5.9823e-09 - accuracy: 1.0000\n",
            "Epoch 81/100\n",
            "469/469 [==============================] - 5s 11ms/step - loss: 5.8432e-09 - accuracy: 1.0000\n",
            "Epoch 82/100\n",
            "469/469 [==============================] - 5s 11ms/step - loss: 5.7916e-09 - accuracy: 1.0000\n",
            "Epoch 83/100\n",
            "469/469 [==============================] - 5s 11ms/step - loss: 5.6565e-09 - accuracy: 1.0000\n",
            "Epoch 84/100\n",
            "469/469 [==============================] - 5s 11ms/step - loss: 5.6247e-09 - accuracy: 1.0000\n",
            "Epoch 85/100\n",
            "469/469 [==============================] - 5s 11ms/step - loss: 5.5631e-09 - accuracy: 1.0000\n",
            "Epoch 86/100\n",
            "469/469 [==============================] - 5s 11ms/step - loss: 5.4638e-09 - accuracy: 1.0000\n",
            "Epoch 87/100\n",
            "469/469 [==============================] - 5s 11ms/step - loss: 5.4220e-09 - accuracy: 1.0000\n",
            "Epoch 88/100\n",
            "469/469 [==============================] - 5s 11ms/step - loss: 5.3982e-09 - accuracy: 1.0000\n",
            "Epoch 89/100\n",
            "469/469 [==============================] - 5s 11ms/step - loss: 5.3147e-09 - accuracy: 1.0000\n",
            "Epoch 90/100\n",
            "469/469 [==============================] - 5s 11ms/step - loss: 5.3088e-09 - accuracy: 1.0000\n",
            "Epoch 91/100\n",
            "469/469 [==============================] - 5s 11ms/step - loss: 5.2412e-09 - accuracy: 1.0000\n",
            "Epoch 92/100\n",
            "469/469 [==============================] - 5s 11ms/step - loss: 5.2015e-09 - accuracy: 1.0000\n",
            "Epoch 93/100\n",
            "469/469 [==============================] - 5s 11ms/step - loss: 5.1637e-09 - accuracy: 1.0000\n",
            "Epoch 94/100\n",
            "469/469 [==============================] - 5s 11ms/step - loss: 5.1200e-09 - accuracy: 1.0000\n",
            "Epoch 95/100\n",
            "469/469 [==============================] - 5s 11ms/step - loss: 5.0664e-09 - accuracy: 1.0000\n",
            "Epoch 96/100\n",
            "469/469 [==============================] - 5s 11ms/step - loss: 5.0286e-09 - accuracy: 1.0000\n",
            "Epoch 97/100\n",
            "469/469 [==============================] - 5s 11ms/step - loss: 4.9710e-09 - accuracy: 1.0000\n",
            "Epoch 98/100\n",
            "469/469 [==============================] - 5s 11ms/step - loss: 4.9611e-09 - accuracy: 1.0000\n",
            "Epoch 99/100\n",
            "469/469 [==============================] - 5s 11ms/step - loss: 4.8896e-09 - accuracy: 1.0000\n",
            "Epoch 100/100\n",
            "469/469 [==============================] - 8s 16ms/step - loss: 4.8637e-09 - accuracy: 1.0000\n"
          ]
        },
        {
          "output_type": "execute_result",
          "data": {
            "text/plain": [
              "<keras.callbacks.History at 0x7f56d143d490>"
            ]
          },
          "metadata": {},
          "execution_count": 69
        }
      ]
    },
    {
      "cell_type": "code",
      "source": [
        "test_loss,test_acc=model.evaluate(test_images,test_labels)\n",
        "print('test_acc','test_accuracy')"
      ],
      "metadata": {
        "colab": {
          "base_uri": "https://localhost:8080/",
          "height": 380
        },
        "id": "jBbcJRkQ7-hd",
        "outputId": "e33080bf-5ae8-4e44-97f6-f090c0ec3d8e"
      },
      "execution_count": null,
      "outputs": [
        {
          "output_type": "error",
          "ename": "ValueError",
          "evalue": "ignored",
          "traceback": [
            "\u001b[0;31m---------------------------------------------------------------------------\u001b[0m",
            "\u001b[0;31mValueError\u001b[0m                                Traceback (most recent call last)",
            "\u001b[0;32m<ipython-input-71-5261edb0d273>\u001b[0m in \u001b[0;36m<module>\u001b[0;34m\u001b[0m\n\u001b[0;32m----> 1\u001b[0;31m \u001b[0mtest_loss\u001b[0m\u001b[0;34m,\u001b[0m\u001b[0mtest_acc\u001b[0m\u001b[0;34m=\u001b[0m\u001b[0mmodel\u001b[0m\u001b[0;34m.\u001b[0m\u001b[0mevaluate\u001b[0m\u001b[0;34m(\u001b[0m\u001b[0mtest_images\u001b[0m\u001b[0;34m,\u001b[0m\u001b[0mtest_labels\u001b[0m\u001b[0;34m)\u001b[0m\u001b[0;34m\u001b[0m\u001b[0;34m\u001b[0m\u001b[0m\n\u001b[0m\u001b[1;32m      2\u001b[0m \u001b[0mprint\u001b[0m\u001b[0;34m(\u001b[0m\u001b[0;34m'test_acc'\u001b[0m\u001b[0;34m,\u001b[0m\u001b[0;34m'test_accuracy'\u001b[0m\u001b[0;34m)\u001b[0m\u001b[0;34m\u001b[0m\u001b[0;34m\u001b[0m\u001b[0m\n",
            "\u001b[0;32m/usr/local/lib/python3.7/dist-packages/keras/utils/traceback_utils.py\u001b[0m in \u001b[0;36merror_handler\u001b[0;34m(*args, **kwargs)\u001b[0m\n\u001b[1;32m     65\u001b[0m     \u001b[0;32mexcept\u001b[0m \u001b[0mException\u001b[0m \u001b[0;32mas\u001b[0m \u001b[0me\u001b[0m\u001b[0;34m:\u001b[0m  \u001b[0;31m# pylint: disable=broad-except\u001b[0m\u001b[0;34m\u001b[0m\u001b[0;34m\u001b[0m\u001b[0m\n\u001b[1;32m     66\u001b[0m       \u001b[0mfiltered_tb\u001b[0m \u001b[0;34m=\u001b[0m \u001b[0m_process_traceback_frames\u001b[0m\u001b[0;34m(\u001b[0m\u001b[0me\u001b[0m\u001b[0;34m.\u001b[0m\u001b[0m__traceback__\u001b[0m\u001b[0;34m)\u001b[0m\u001b[0;34m\u001b[0m\u001b[0;34m\u001b[0m\u001b[0m\n\u001b[0;32m---> 67\u001b[0;31m       \u001b[0;32mraise\u001b[0m \u001b[0me\u001b[0m\u001b[0;34m.\u001b[0m\u001b[0mwith_traceback\u001b[0m\u001b[0;34m(\u001b[0m\u001b[0mfiltered_tb\u001b[0m\u001b[0;34m)\u001b[0m \u001b[0;32mfrom\u001b[0m \u001b[0;32mNone\u001b[0m\u001b[0;34m\u001b[0m\u001b[0;34m\u001b[0m\u001b[0m\n\u001b[0m\u001b[1;32m     68\u001b[0m     \u001b[0;32mfinally\u001b[0m\u001b[0;34m:\u001b[0m\u001b[0;34m\u001b[0m\u001b[0;34m\u001b[0m\u001b[0m\n\u001b[1;32m     69\u001b[0m       \u001b[0;32mdel\u001b[0m \u001b[0mfiltered_tb\u001b[0m\u001b[0;34m\u001b[0m\u001b[0;34m\u001b[0m\u001b[0m\n",
            "\u001b[0;32m/usr/local/lib/python3.7/dist-packages/keras/engine/data_adapter.py\u001b[0m in \u001b[0;36m_check_data_cardinality\u001b[0;34m(data)\u001b[0m\n\u001b[1;32m   1653\u001b[0m                            for i in tf.nest.flatten(single_data)))\n\u001b[1;32m   1654\u001b[0m     \u001b[0mmsg\u001b[0m \u001b[0;34m+=\u001b[0m \u001b[0;34m\"Make sure all arrays contain the same number of samples.\"\u001b[0m\u001b[0;34m\u001b[0m\u001b[0;34m\u001b[0m\u001b[0m\n\u001b[0;32m-> 1655\u001b[0;31m     \u001b[0;32mraise\u001b[0m \u001b[0mValueError\u001b[0m\u001b[0;34m(\u001b[0m\u001b[0mmsg\u001b[0m\u001b[0;34m)\u001b[0m\u001b[0;34m\u001b[0m\u001b[0;34m\u001b[0m\u001b[0m\n\u001b[0m\u001b[1;32m   1656\u001b[0m \u001b[0;34m\u001b[0m\u001b[0m\n\u001b[1;32m   1657\u001b[0m \u001b[0;34m\u001b[0m\u001b[0m\n",
            "\u001b[0;31mValueError\u001b[0m: Data cardinality is ambiguous:\n  x sizes: 60000\n  y sizes: 10000\nMake sure all arrays contain the same number of samples."
          ]
        }
      ]
    },
    {
      "cell_type": "code",
      "source": [],
      "metadata": {
        "id": "135RS22VHbZu"
      },
      "execution_count": null,
      "outputs": []
    }
  ]
}